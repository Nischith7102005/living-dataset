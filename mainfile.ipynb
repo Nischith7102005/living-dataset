{
  "nbformat": 4,
  "nbformat_minor": 0,
  "metadata": {
    "colab": {
      "provenance": [],
      "authorship_tag": "ABX9TyPXNTv9KnbMYLImH0x3OKaL",
      "include_colab_link": true
    },
    "kernelspec": {
      "name": "python3",
      "display_name": "Python 3"
    },
    "language_info": {
      "name": "python"
    }
  },
  "cells": [
    {
      "cell_type": "markdown",
      "metadata": {
        "id": "view-in-github",
        "colab_type": "text"
      },
      "source": [
        "<a href=\"https://colab.research.google.com/github/Nischith7102005/living-dataset/blob/main/mainfile.ipynb\" target=\"_parent\"><img src=\"https://colab.research.google.com/assets/colab-badge.svg\" alt=\"Open In Colab\"/></a>"
      ]
    },
    {
      "cell_type": "code",
      "execution_count": 1,
      "metadata": {
        "id": "atXpwQgAHmV3"
      },
      "outputs": [],
      "source": [
        "# ======================  CELL-1  ======================\n",
        "# 1. Bring in the tools we need\n",
        "import numpy as np                # fast maths on lists of numbers\n",
        "import pandas as pd               # spreadsheets in Python\n",
        "from sklearn.datasets import load_iris   # built-in flower data (no internet!)\n",
        "from sklearn.linear_model import LogisticRegression  # tiny classifier\n",
        "from sklearn.model_selection import train_test_split # split data\n",
        "from sklearn.metrics import accuracy_score           # % correct"
      ]
    },
    {
      "cell_type": "code",
      "source": [
        "# ======================  CELL-2  ======================\n",
        "# 2. Load the Iris flowers (150 rows, 4 numbers + 1 name)\n",
        "iris = load_iris()\n",
        "X = pd.DataFrame(iris.data, columns=iris.feature_names)   # 4 numbers\n",
        "y = pd.Series(iris.target_names[iris.target], name='species')  # flower name"
      ],
      "metadata": {
        "id": "YOlydDL9IMkV"
      },
      "execution_count": 2,
      "outputs": []
    },
    {
      "cell_type": "code",
      "source": [
        "# ======================  CELL-3  ======================\n",
        "# 3. Split into train-set (120 flowers) and test-set (30 flowers)\n",
        "X_train, X_test, y_train, y_test = train_test_split(X, y, test_size=0.2,random_state=42, stratify=y)"
      ],
      "metadata": {
        "id": "haIZtd-9IPK5"
      },
      "execution_count": 3,
      "outputs": []
    },
    {
      "cell_type": "code",
      "source": [
        "# ======================  CELL-4  ======================\n",
        "# 4. A tiny “flower barcode” holder\n",
        "class Flower:\n",
        "    def __init__(self, numbers):\n",
        "        self.numbers = np.array(numbers, dtype=float)  # the 4 measurements\n",
        "        self.fitness = 0.0                             # how good it is"
      ],
      "metadata": {
        "id": "cJdrETKyIXX6"
      },
      "execution_count": 4,
      "outputs": []
    },
    {
      "cell_type": "code",
      "source": [
        "# ======================  CELL-5  ======================\n",
        "# 5. Make new flowers by adding tiny noise\n",
        "def mutate(flower, noise_size=0.05):\n",
        "    noise = np.random.normal(loc=0.0, scale=noise_size, size=flower.numbers.shape)\n",
        "    return Flower(flower.numbers + noise)"
      ],
      "metadata": {
        "id": "nQcCC6PZIbO6"
      },
      "execution_count": 5,
      "outputs": []
    },
    {
      "cell_type": "code",
      "source": [
        "# ======================  CELL-6  ======================\n",
        "# 6. Make a child by mixing two parent flowers\n",
        "def crossover(flower1, flower2):\n",
        "    alpha = np.random.rand()       # 0-1 coin-flip\n",
        "    child_numbers = alpha * flower1.numbers + (1 - alpha) * flower2.numbers\n",
        "    return Flower(child_numbers)"
      ],
      "metadata": {
        "id": "42wcIEuiIdlR"
      },
      "execution_count": 6,
      "outputs": []
    },
    {
      "cell_type": "code",
      "source": [
        "# ======================  CELL-7  ======================\n",
        "# 7. Measure how good a flower is → train classifier, return accuracy\n",
        "def score_flowers(flowers, model, X_train, y_train):\n",
        "    # Build a matrix from all flower numbers\n",
        "    X_pop = np.array([f.numbers for f in flowers])\n",
        "    model.fit(X_pop, y_train)                # train on current population\n",
        "    preds = model.predict(X_pop)             # predict on same population\n",
        "    acc = accuracy_score(y_train, preds)     # % correct\n",
        "    # Store fitness inside each flower\n",
        "    for f in flowers:\n",
        "        f.fitness = acc\n",
        "    return acc"
      ],
      "metadata": {
        "id": "WhwJq46RIjuI"
      },
      "execution_count": 7,
      "outputs": []
    },
    {
      "cell_type": "code",
      "source": [
        "# ======================  CELL-8  ======================\n",
        "# 8. The Evolution Loop (no classes, just a function)\n",
        "def evolve_population(flowers, model, X_train, y_train, gens=5):\n",
        "    for gen in range(gens):\n",
        "        # 1. Score everyone\n",
        "        best_acc = score_flowers(flowers, model, X_train, y_train)\n",
        "        print(f\"Gen {gen+1}: best accuracy = {best_acc:.3f}\")\n",
        "\n",
        "        # 2. Keep top 50 %\n",
        "        flowers.sort(key=lambda f: f.fitness, reverse=True)\n",
        "        survivors = flowers[:len(flowers)//2]\n",
        "\n",
        "        # 3. Breed children to refill population\n",
        "        children = []\n",
        "        for _ in range(len(flowers) - len(survivors)):\n",
        "            mom, dad = np.random.choice(survivors, 2, replace=False)\n",
        "            child = crossover(mom, dad)\n",
        "            child = mutate(child)\n",
        "            children.append(child)\n",
        "\n",
        "        # 4. Next generation\n",
        "        flowers = survivors + children\n",
        "\n",
        "    return flowers\n"
      ],
      "metadata": {
        "id": "2B3UAlN3Im_h"
      },
      "execution_count": 8,
      "outputs": []
    },
    {
      "cell_type": "code",
      "source": [
        "\n",
        "# ======================  CELL-9  ======================\n",
        "# 9. Create starting population (copies of real flowers)\n",
        "starter_flowers = [Flower(row) for row in X_train.values]\n",
        "model = LogisticRegression(max_iter=1000)\n",
        "\n",
        "# Evolve for 5 generations\n",
        "evolved_flowers = evolve_population(starter_flowers, model, X_train, y_train, gens=5)"
      ],
      "metadata": {
        "colab": {
          "base_uri": "https://localhost:8080/",
          "height": 0
        },
        "id": "9Taq6qKaIqdJ",
        "outputId": "79397c90-aef1-4508-e64d-bdd474f22b05"
      },
      "execution_count": 9,
      "outputs": [
        {
          "output_type": "stream",
          "name": "stdout",
          "text": [
            "Gen 1: best accuracy = 0.975\n",
            "Gen 2: best accuracy = 0.675\n",
            "Gen 3: best accuracy = 0.583\n",
            "Gen 4: best accuracy = 0.617\n",
            "Gen 5: best accuracy = 0.617\n"
          ]
        }
      ]
    },
    {
      "cell_type": "code",
      "source": [
        "# ======================  CELL-10  ======================\n",
        "# 10. Turn evolved flowers back into a pandas DataFrame\n",
        "evolved_numbers = np.array([f.numbers for f in evolved_flowers])\n",
        "evolved_df = pd.DataFrame(evolved_numbers, columns=X.columns)\n",
        "evolved_df['species'] = y_train.values  # keep original labels\n",
        "evolved_df.to_csv(\"evolved_iris.csv\", index=False)\n",
        "print(\"Saved evolved_iris.csv\")"
      ],
      "metadata": {
        "colab": {
          "base_uri": "https://localhost:8080/",
          "height": 0
        },
        "id": "kIbihD8kItXq",
        "outputId": "8cb94054-6301-4094-807e-f5c327cf3dbf"
      },
      "execution_count": 10,
      "outputs": [
        {
          "output_type": "stream",
          "name": "stdout",
          "text": [
            "Saved evolved_iris.csv\n"
          ]
        }
      ]
    },
    {
      "cell_type": "code",
      "source": [
        "# ======================  CELL-11  ======================\n",
        "# 11. Train a NEW model on synthetic flowers, test on REAL unseen flowers\n",
        "final_model = LogisticRegression(max_iter=1000)\n",
        "final_model.fit(evolved_df.drop(columns='species'), evolved_df['species'])\n",
        "pred = final_model.predict(X_test)\n",
        "print(\"Accuracy on REAL unseen flowers:\", accuracy_score(y_test, pred))"
      ],
      "metadata": {
        "colab": {
          "base_uri": "https://localhost:8080/",
          "height": 0
        },
        "id": "EJjJr9oBIvzK",
        "outputId": "f37f0fb1-c9df-41db-d664-203d818fa304"
      },
      "execution_count": 11,
      "outputs": [
        {
          "output_type": "stream",
          "name": "stdout",
          "text": [
            "Accuracy on REAL unseen flowers: 0.8\n"
          ]
        }
      ]
    },
    {
      "cell_type": "code",
      "source": [
        "# ======================  CELL-12  ======================\n",
        "import matplotlib.pyplot as plt\n",
        "\n",
        "# pick two columns for an easy 2-D plot\n",
        "COL_X, COL_Y = 'sepal length (cm)', 'petal length (cm)'\n",
        "\n",
        "# original real flowers\n",
        "orig_x = X_train[COL_X]\n",
        "orig_y = X_train[COL_Y]\n",
        "\n",
        "# evolved synthetic flowers\n",
        "evol_x = evolved_df[COL_X]\n",
        "evol_y = evolved_df[COL_Y]\n",
        "\n",
        "plt.figure(figsize=(6, 3))\n",
        "\n",
        "# left plot: real\n",
        "plt.subplot(1, 2, 1)\n",
        "plt.scatter(orig_x, orig_y, color='blue', alpha=0.6)\n",
        "plt.title(\"Real Flowers\")\n",
        "plt.xlabel(COL_X)\n",
        "plt.ylabel(COL_Y)\n",
        "\n",
        "# right plot: evolved\n",
        "plt.subplot(1, 2, 2)\n",
        "plt.scatter(evol_x, evol_y, color='orange', alpha=0.6)\n",
        "plt.title(\"Evolved Flowers\")\n",
        "plt.xlabel(COL_X)\n",
        "\n",
        "plt.tight_layout()\n",
        "plt.show()"
      ],
      "metadata": {
        "colab": {
          "base_uri": "https://localhost:8080/",
          "height": 307
        },
        "id": "s5TiHOAxJkOJ",
        "outputId": "0fd4a650-e736-40b4-d761-12a78b11ecf2"
      },
      "execution_count": 12,
      "outputs": [
        {
          "output_type": "display_data",
          "data": {
            "text/plain": [
              "<Figure size 600x300 with 2 Axes>"
            ],
            "image/png": "[encoded data removed]"
          },
          "metadata": {}
        }
      ]
    }
  ]
}